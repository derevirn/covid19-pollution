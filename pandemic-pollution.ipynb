{
 "cells": [
  {
   "cell_type": "markdown",
   "metadata": {},
   "source": [
    "# Air Pollution and the COVID-19 Pandemic\n",
    "\n",
    "The COVID-19 pandemic has caused an unprecedented disruption in every aspect of human activity, on a global scale. Billions of people have been affected by the disease in numerous ways, and felt its impact in their daily lives. Fortunately and perhaps unexpectedly, the pandemic had a few beneficial effects as well. The various measures implemented by governments all over the world, like travel restrictions, border closures and lockdowns, have led to the decrease of air pollution in many countries. Air pollution is itself a major health issue, causing millions of deaths on a yearly basis. In this notebook we are going to explore the decrease of air pollution during the COVID-19 pandemic in various cities, using satellite data."
   ]
  },
  {
   "cell_type": "markdown",
   "metadata": {},
   "source": [
    "## Air Pollution decrease in Italy"
   ]
  },
  {
   "cell_type": "code",
   "execution_count": 1,
   "metadata": {},
   "outputs": [],
   "source": [
    "from matplotlib import pyplot as plt\n",
    "import cartopy.crs as ccrs\n",
    "import matplotlib.colors as colors\n",
    "import xarray as xr\n",
    "import numpy as np\n",
    "import cartopy\n",
    "import matplotlib.gridspec as gridspec\n",
    "from glob import iglob\n",
    "from os.path import join\n",
    "from functools import reduce\n",
    "import pandas as pd\n",
    "import harp\n",
    "import cartopy.feature as cf\n",
    "from cartopy.mpl.gridliner import LONGITUDE_FORMATTER, LATITUDE_FORMATTER\n",
    "import matplotlib.patches as mpatches\n",
    "import imageio\n"
   ]
  },
  {
   "cell_type": "code",
   "execution_count": 8,
   "metadata": {},
   "outputs": [
    {
     "name": "stdout",
     "output_type": "stream",
     "text": [
      "data\\L2\\S5P_OFFL_L2__NO2____20190306T101000_20190306T115130_07222_01_010202_20190312T115330.zip\n",
      "<xarray.Dataset>\n",
      "Dimensions:  ()\n",
      "Data variables:\n",
      "    *empty*\n",
      "Attributes:\n",
      "    Conventions:                        CF-1.7\n",
      "    institution:                        KNMI\n",
      "    source:                             Sentinel 5 precursor, TROPOMI, space-...\n",
      "    summary:                            TROPOMI/S5P NO2 1-Orbit L2 Swath 7x3.5km\n",
      "    tracking_id:                        16818022-6a71-4ab0-a12c-bf71dee310a0\n",
      "    id:                                 S5P_OFFL_L2__NO2____20190301T100306_2...\n",
      "    time_reference:                     2019-03-01T00:00:00Z\n",
      "    time_reference_days_since_1950:     25261\n",
      "    time_reference_julian_day:          2458543.5\n",
      "    time_reference_seconds_since_1970:  1551398400\n",
      "    time_coverage_start:                2019-03-01T10:24:40Z\n",
      "    time_coverage_end:                  2019-03-01T11:23:03Z\n",
      "    time_coverage_duration:             PT3503.000S\n",
      "    time_coverage_resolution:           PT1.080S\n",
      "    orbit:                              7151\n",
      "    references:                         http://www.tropomi.eu/data-products/n...\n",
      "    processor_version:                  1.2.2\n",
      "    keywords_vocabulary:                AGU index terms, http://publications....\n",
      "    keywords:                           0345 Pollution, Urban and Regional; 0...\n",
      "    standard_name_vocabulary:           NetCDF Climate and Forecast Metadata ...\n",
      "    naming_authority:                   nl.knmi\n",
      "    cdm_data_type:                      Swath\n",
      "    date_created:                       2019-03-07T11:54:45Z\n",
      "    creator_name:                       The Sentinel 5 Precursor TROPOMI Leve...\n",
      "    creator_url:                        http://www.tropomi.eu\n",
      "    creator_email:                      EOSupport@Copernicus.esa.int\n",
      "    project:                            Sentinel 5 precursor/TROPOMI\n",
      "    geospatial_lat_min:                 -89.96326\n",
      "    geospatial_lat_max:                 89.97118\n",
      "    geospatial_lon_min:                 179.9981\n",
      "    geospatial_lon_max:                 -179.99977\n",
      "    license:                            No conditions apply\n",
      "    platform:                           S5P\n",
      "    sensor:                             TROPOMI\n",
      "    spatial_resolution:                 7x3.5km2\n",
      "    cpp_compiler_version:               g++ (GCC) 4.8.5 20150623 (Red Hat 4.8...\n",
      "    cpp_compiler_flags:                 -g -O2 -fPIC -std=c++11 -W -Wall -Wno...\n",
      "    f90_compiler_version:               GNU Fortran (GCC) 4.8.5 20150623 (Red...\n",
      "    f90_compiler_flags:                 -gdwarf-3 -O2 -fPIC -cpp -ffpe-trap=i...\n",
      "    build_date:                         2018-11-15T14:05:00Z\n",
      "    revision_control_identifier:        780c4fda8438\n",
      "    geolocation_grid_from_band:         4\n",
      "    identifier_product_doi:             10.5270/S5P-s4ljg54\n",
      "    identifier_product_doi_authority:   http://dx.doi.org/\n",
      "    algorithm_version:                  1.0.0\n",
      "    title:                              TROPOMI/S5P NO2 1-Orbit L2 Swath 7x3.5km\n",
      "    product_version:                    1.0.0\n",
      "    Status_MET_2D:                      Nominal\n",
      "    Status_NISE__:                      Nominal\n",
      "    Status_CTMFCT:                      Nominal\n",
      "    history:                            2019-03-07 12:04:26 f_s5pops tropnll2...\n",
      "    processing_status:                  OFFL-processing nominal product\n",
      "    date_modified:                      2019-03-13T13:12:06Z\n"
     ]
    }
   ],
   "source": [
    "product_path = 'data\\L2'\n",
    "export_path = 'data\\L3'\n",
    "\n",
    "input_files = sorted(list(iglob(join(product_path, '*'), recursive=True)))\n",
    "print(input_files[13])\n",
    "with xr.open_dataset(input_files[0]) as s5p_img:\n",
    "    print(s5p_img)"
   ]
  },
  {
   "cell_type": "code",
   "execution_count": null,
   "metadata": {},
   "outputs": [],
   "source": []
  }
 ],
 "metadata": {
  "kernelspec": {
   "display_name": "Python 3",
   "language": "python",
   "name": "python3"
  },
  "language_info": {
   "codemirror_mode": {
    "name": "ipython",
    "version": 3
   },
   "file_extension": ".py",
   "mimetype": "text/x-python",
   "name": "python",
   "nbconvert_exporter": "python",
   "pygments_lexer": "ipython3",
   "version": "3.7.7"
  }
 },
 "nbformat": 4,
 "nbformat_minor": 4
}
