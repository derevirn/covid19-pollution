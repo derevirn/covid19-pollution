{
 "cells": [
  {
   "cell_type": "markdown",
   "metadata": {},
   "source": [
    "# Air Pollution and the COVID-19 Pandemic\n",
    "The COVID-19 pandemic has caused an unprecedented disruption on every aspect of human activity, on a global scale. Billions of people have been affected by the disease in numerous ways, and felt its impact in their daily lives. Fortunately, the pandemic had a few beneficial effects as well. The various measures implemented by governments all over the world, like travel restrictions, border closures and lockdowns, have led to the decrease of air pollution in many countries. Air pollution is itself a major health issue, causing millions of deaths on a yearly basis. In this notebook we are going to explore the reduction of air pollution in Greece and Italy, during the COVID-19 pandemic. March 2020 will be the focus of our analysis, as the majority of government measures were imposed during that month in both countries. The pollution levels of March 2019 will be used as a baseline, for comparison purposes.\n",
    "\n",
    "## Nitrogen Dioxide \n",
    "Nitrogen dioxide (NO<sub>2</sub>) is one of the major air pollutants associated with health issues. The majority of nitrogen dioxide in urban areas, is emitted from the burning of fossil fuels, therefore cities with heavy car traffic have high concentration of the gas. It is also produced from power plants and other industrial activity. Continued exposure to NO<sub>2</sub> can cause various health problems, such as inflammation of the lungs, bronchitis, and other respiratory illnesses. People suffering from asthma, as well as the elderly are at greater risk from the detrimental effects of being exposed to NO<sub>2</sub>. Besides the health effects, NO<sub>2</sub> can also be harmful for the environment, as it reacts with water and other chemicals to form acid rain, which is detrimental for ecosystems.\n",
    "\n",
    "## Sentinel-5p Satellite\n",
    "Our analysis is based on data provided by Copernicus, the earth observation programme coordinated by the European Union, and implemented by various organizations such as the European Space Agency (ESA). The Sentinel-5P satellite is part of the Copernicus programme, and is focused on air quality, pollution and climate monitoring. It measures various trace gases such as CO, NO<sub>2</sub>, SO<sub>2</sub>, O<sub>3</sub>, CH<sub>4</sub> and others. We are going to access and analyze the NO<sub>2</sub> data from Sentinel-5P for our analysis. \n",
    "\n",
    "## Air Pollution in Italy\n",
    "Italy is one of the european countries that have been signficantly affected by the COVID-19 pandemic. As of June 2020, there have been more than 230000 confirmed cases, and about 33000 deaths attributed to the coronavirus. The italian government had implemented various measures to contain the pandemic, and eventually imposed a nationwide lockdown on March 9 2020.\n",
    "\n",
    "![Italy Pollution](images/pollution_Italy.png)\n",
    "\n",
    "As we can see, nitrogen dioxide concentration was significantly decreased in Italy during March 2020, compared to the same period last year. This can be at least partly attributed to the COVID-19 measures implemented by the italian government, and the subsequent reduction of traffic and industrial activity.\n",
    "\n",
    "## Air Pollution in Lombardy\n",
    "The Lombardy region of Italy was severely affected by the COVID-19 pandemic, having one of the highest rates of confirmed cases and deaths in the country. Lombardy and its capital city Milan are among the most polluted areas of Europe, due to the presence of various factories and other industrial facilities. Furthermore, the geographic characteristics of the region further exacerbate the phenomenon, by causing low wind speeds. Researchers have suggested that air pollution has contributed to the high COVID-19 mortality rate that was recorded in the region.\n",
    "\n",
    "![Lombardy Pollution](images/pollution_Lombardy.png)\n",
    "\n",
    "As we can see Lombardy was a pollution hotspot in March 2019. The government measures for the COVID-19 pandemic decreased NO<sub>2</sub> concentration significantly.\n",
    "\n",
    "## Air Pollution in Greece\n",
    "The greek government implemented various measures during March 2020 to contain the COVID-19 outbreak, including the temporary suspension of all educational institutions, the closure of cafes, restaurants and most shops. Eventually, a nationwide lockdown was imposed on March 22 2020. \n",
    "\n",
    "![Greece Pollution](images/pollution_Greece.png)\n",
    "\n",
    "It is evident in the graph that NO<sub>2</sub> concentration was decreased in Greece during March 2020, especially in the regions of Central Macedonia and Attica. \n",
    "\n",
    "## Air Pollution in Attica\n",
    "The Attica region of Greece encompasses Athens, the country's capital. Air quality is a problem in Athens, where NO<sub>2</sub> levels are occasionally above safe levels. Various factors contribute to this phenomenon, such as the nearby industrial area, heavy traffic in the city center, and the geographical properties of the region. \n",
    "\n",
    "![Attica Pollution](images/pollution_Attica.png)\n",
    "\n",
    "The measures imposed by the greek government for the COVID-19 pandemic, led to a significant decrease in NO<sub>2</sub> levels in Attica, due to reduced traffic and other activities. "
   ]
  }
 ],
 "metadata": {
  "kernelspec": {
   "display_name": "Python 3",
   "language": "python",
   "name": "python3"
  },
  "language_info": {
   "codemirror_mode": {
    "name": "ipython",
    "version": 3
   },
   "file_extension": ".py",
   "mimetype": "text/x-python",
   "name": "python",
   "nbconvert_exporter": "python",
   "pygments_lexer": "ipython3",
   "version": "3.7.7"
  }
 },
 "nbformat": 4,
 "nbformat_minor": 4
}
