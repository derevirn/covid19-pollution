{
 "cells": [
  {
   "cell_type": "markdown",
   "metadata": {},
   "source": [
    "# Air Pollution and the COVID-19 Pandemic\n",
    "\n",
    "The COVID-19 pandemic has caused an unprecedented disruption in every aspect of human activity, on a global scale. Billions of people have been affected by the disease in numerous ways, and felt its impact in their daily lives. Fortunately, the pandemic had a few beneficial effects as well. The various measures implemented by governments all over the world, like travel restrictions, border closures and lockdowns, have led to the decrease of air pollution in many countries. Air pollution is itself a major health issue, causing millions of deaths on a yearly basis. In this notebook we are going to explore the decrease of air pollution during the COVID-19 pandemic in a number of countries and regions. "
   ]
  },
  {
   "cell_type": "markdown",
   "metadata": {},
   "source": [
    "## Nitrogen Dioxide \n",
    "Nitrogen dioxide (NO<sub>2</sub>) is one of the major air pollutants associated with health issues. The majority of nitrogen dioxide in urban areas, is emitted from the burning of fossil fuels, therefore cities with heavy car traffic have high concentration of the gas. It is also produced from power plants and other industrial activity. Continued exposure to NO<sub>2</sub> can cause various health problems, such as inflammation of the lungs, bronchitis, and other respiratory illnesses.\n",
    "\n",
    "## Sentinel-5p Satellite\n",
    "Our analysis is based on data provided by Copernicus, the earth observation programme coordinated by the European Union, and implemented by various organizations such as the European Space Agency (ESA). The Sentinel-5P satellite is part of the Copernicus programme, and is focused on air quality and air pollution. It monitors various traces gases such as CO, NO<sub>2</sub>, SO<sub>2</sub>, O<sub>3</sub>, CH<sub>4</sub> and others. We are going to access and analyze the NO<sub>2</sub> data from Sentinel-5P for our analysis\n",
    "\n",
    "## Air Pollution in Italy\n",
    "Italy is one of the european countries that have been signficantly affected by the COVID-19 pandemic. As of June 2020, there have been more than 230.000 confirmed cases, and about 33.000 thousands deaths attributed to the coronavirus. The italian government implemente various measures to contain the pandemic, and eventually imposed a nationwide lockdown on March 9 2020.\n",
    "\n",
    "![Italy Pollution](images\\pollution_Italy.png)\n",
    "\n",
    "As we can see, nitrogen dioxide concentration was significantly decreased in Italy during March 2020, compared to the same period last year. This can be at least partly attributed to the COVID-19 measures implemented by the italian government, and the reduction of traffic and industrial activity.\n",
    "\n",
    "## Air Pollution in Lombardy\n",
    "The Lombardy region of Italy was severely affected by the COVID-19 pandemic, having one of the highest rates of confirmed cases in the country. Lombardy and its capital city Milan, is heavily polluted due to the presence of various factories and other industrial activity in the area.\n",
    "\n",
    "![Lombardy Pollution](images\\pollution_Lombardy.png)\n",
    "\n",
    "As we can see Lombardy was a pollution hotspot in March 2019. The government measures for the COVID-19 pandemic decreased NO<sub>2</sub> concentration significantly.\n",
    "\n",
    "## Air Pollution in Greece\n",
    "The greek government implemented various measures to contain the COVID-19 outbreak. On March 22 2020 a nationwide lockdown was imposed. \n",
    "\n",
    "![Greece Pollution](images\\pollution_Greece.png)\n",
    "\n",
    "NO<sub>2</sub> concentration was decreased in Greece during March 2020, especially in the regions of Central Macedonia and Attica. \n",
    "\n",
    "## Air Pollution in Attica\n",
    "The Attica region of Greece encompasses Athens, the country's capital. Air quality is a problem in Athens, where NO<sub>2</sub> levels are occasionally above safe levels.\n",
    "\n",
    "![Attica Pollution](images\\pollution_Attica.png)\n",
    "\n",
    "The measures imposed by the greek government for the COVID-19 pandemic, led to a significant decrease in NO<sub>2</sub> levels in Attica, due to reduced traffic and other activities. "
   ]
  },
  {
   "cell_type": "code",
   "execution_count": null,
   "metadata": {},
   "outputs": [],
   "source": []
  }
 ],
 "metadata": {
  "kernelspec": {
   "display_name": "Python 3",
   "language": "python",
   "name": "python3"
  },
  "language_info": {
   "codemirror_mode": {
    "name": "ipython",
    "version": 3
   },
   "file_extension": ".py",
   "mimetype": "text/x-python",
   "name": "python",
   "nbconvert_exporter": "python",
   "pygments_lexer": "ipython3",
   "version": "3.7.7"
  }
 },
 "nbformat": 4,
 "nbformat_minor": 4
}
